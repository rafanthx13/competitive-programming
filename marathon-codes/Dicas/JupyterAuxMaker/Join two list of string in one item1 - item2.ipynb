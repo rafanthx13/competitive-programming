{
 "cells": [
  {
   "cell_type": "markdown",
   "metadata": {},
   "source": [
    "# Para comentarios, juntar sequencia de comentarios\n",
    "## FUNCIONA!\n",
    "\n",
    "## Há uma versão que coloca o \\t da forma que queremos\n",
    "\n",
    "```\n",
    "print_jointed_lists_strings(str1, str2, separator)\n",
    "print_jointed_lists_strings_align(str1, str2, separator)\n",
    "```\n",
    "\n",
    "As veses estou precisando de: dado duas listas, juntar a de baixo com a de cima\n",
    "\n",
    "**Isso é bom para melhorar comentários em código**\n",
    "\n",
    "Exemplo:\n",
    "\n",
    "lista 1\n",
    "\n",
    "````\n",
    "1\n",
    "2\n",
    "3\n",
    "4\n",
    "5\n",
    "6\n",
    "7\n",
    "8\n",
    "````\n",
    "\n",
    "lista 2\n",
    "````\n",
    "w\n",
    "l\n",
    "d\n",
    "c\n",
    "a\n",
    "s\n",
    "z\n",
    "x\n",
    "u\n",
    "````\n",
    "Eu quero que saia a seguinte string\n",
    "\n",
    "````\n",
    "1 - w\n",
    "2 - l\n",
    "3 - d\n",
    "4 - c\n",
    "5 - a\n",
    "6 - s\n",
    "7 - z\n",
    "8 - x\n",
    "````"
   ]
  },
  {
   "cell_type": "code",
   "execution_count": 7,
   "metadata": {
    "ExecuteTime": {
     "end_time": "2019-06-18T03:38:51.881675Z",
     "start_time": "2019-06-18T03:38:51.872691Z"
    }
   },
   "outputs": [],
   "source": [
    "# Deve se colocado a sequencia abaixo de string1 da forma que se esta\n",
    "string1 = \"\"\"\n",
    "13000\n",
    "1300\n",
    "130\n",
    "13\n",
    "1\n",
    "13300\n",
    "100300\n",
    "103033\n",
    "10000\n",
    "1000\n",
    "1\n",
    "2\n",
    "3\n",
    "4\n",
    "5\n",
    "6\n",
    "7\n",
    "8\n",
    "9\n",
    "10\n",
    "11\n",
    "12\n",
    "13\n",
    "14\n",
    "15\n",
    "16\n",
    "17\n",
    "18\n",
    "19\n",
    "50\n",
    "60\n",
    "70\n",
    "80\n",
    "90\n",
    "100\n",
    "101\n",
    "200\n",
    "300\n",
    "400\n",
    "500\n",
    "600\n",
    "700\n",
    "800\n",
    "900\n",
    "1000\n",
    "\"\"\""
   ]
  },
  {
   "cell_type": "code",
   "execution_count": 8,
   "metadata": {
    "ExecuteTime": {
     "end_time": "2019-06-18T03:38:53.134832Z",
     "start_time": "2019-06-18T03:38:53.130926Z"
    }
   },
   "outputs": [],
   "source": [
    "# Deve se colocado a sequencia abaixo de string2\n",
    "string2 = \"\"\"\n",
    "treze mil\n",
    "mil e trezentos\n",
    "cento e trinta\n",
    "treze\n",
    "um\n",
    "treze mil e trezentos\n",
    "cem mil e trezentos\n",
    "cento e tres mil e trinta e tres\n",
    "dez mil\n",
    "mil\n",
    "um\n",
    "dois\n",
    "tres\n",
    "quatro\n",
    "cinco\n",
    "seis\n",
    "sete\n",
    "oito\n",
    "nove\n",
    "dez\n",
    "onze\n",
    "doze\n",
    "treze\n",
    "quatorze\n",
    "quinze\n",
    "dezesseis\n",
    "dezessete\n",
    "dezoito\n",
    "dezenove\n",
    "cinquenta\n",
    "sessenta\n",
    "setenta\n",
    "oitenta\n",
    "noventa\n",
    "cem\n",
    "cento e um\n",
    "duzentos\n",
    "trezentos\n",
    "quatrocentos\n",
    "quinhentos\n",
    "seiscentos\n",
    "setecentos\n",
    "oitocentos\n",
    "novecentos\n",
    "mil\n",
    "\"\"\""
   ]
  },
  {
   "cell_type": "code",
   "execution_count": 29,
   "metadata": {
    "ExecuteTime": {
     "end_time": "2019-06-18T03:52:26.389058Z",
     "start_time": "2019-06-18T03:52:26.372484Z"
    }
   },
   "outputs": [],
   "source": [
    "def print_jointed_lists_strings(str1, str2, separator = \" \"):\n",
    "    l1 = str1.split(\"\\n\")\n",
    "    l2 = str2.split(\"\\n\")\n",
    "    if(len(l1) != len(l2)):\n",
    "        print(\"as listas nao tem os mesmso tamanhos\")\n",
    "        print(\"l1 tem\", len(l1), \"|\", \"l2 tem\", len(l2))\n",
    "        return \"\"\n",
    "    l3 = []\n",
    "    for index in range(1, len(l1) - 1):\n",
    "        l3.append( l1[index] + separator + l2[index] )\n",
    "    for v in l3:\n",
    "        print(v)"
   ]
  },
  {
   "cell_type": "code",
   "execution_count": 23,
   "metadata": {
    "ExecuteTime": {
     "end_time": "2019-06-18T03:47:09.314338Z",
     "start_time": "2019-06-18T03:47:09.294859Z"
    }
   },
   "outputs": [
    {
     "name": "stdout",
     "output_type": "stream",
     "text": [
      "13000\t\t\t\ttreze mil\n",
      "1300\t\t\t\tmil e trezentos\n",
      "130\t\t\t\tcento e trinta\n",
      "13\t\t\t\ttreze\n",
      "1\t\t\t\tum\n",
      "13300\t\t\t\ttreze mil e trezentos\n",
      "100300\t\t\t\tcem mil e trezentos\n",
      "103033\t\t\t\tcento e tres mil e trinta e tres\n",
      "10000\t\t\t\tdez mil\n",
      "1000\t\t\t\tmil\n",
      "1\t\t\t\tum\n",
      "2\t\t\t\tdois\n",
      "3\t\t\t\ttres\n",
      "4\t\t\t\tquatro\n",
      "5\t\t\t\tcinco\n",
      "6\t\t\t\tseis\n",
      "7\t\t\t\tsete\n",
      "8\t\t\t\toito\n",
      "9\t\t\t\tnove\n",
      "10\t\t\t\tdez\n",
      "11\t\t\t\tonze\n",
      "12\t\t\t\tdoze\n",
      "13\t\t\t\ttreze\n",
      "14\t\t\t\tquatorze\n",
      "15\t\t\t\tquinze\n",
      "16\t\t\t\tdezesseis\n",
      "17\t\t\t\tdezessete\n",
      "18\t\t\t\tdezoito\n",
      "19\t\t\t\tdezenove\n",
      "50\t\t\t\tcinquenta\n",
      "60\t\t\t\tsessenta\n",
      "70\t\t\t\tsetenta\n",
      "80\t\t\t\toitenta\n",
      "90\t\t\t\tnoventa\n",
      "100\t\t\t\tcem\n",
      "101\t\t\t\tcento e um\n",
      "200\t\t\t\tduzentos\n",
      "300\t\t\t\ttrezentos\n",
      "400\t\t\t\tquatrocentos\n",
      "500\t\t\t\tquinhentos\n",
      "600\t\t\t\tseiscentos\n",
      "700\t\t\t\tsetecentos\n",
      "800\t\t\t\toitocentos\n",
      "900\t\t\t\tnovecentos\n",
      "1000\t\t\t\tmil\n"
     ]
    }
   ],
   "source": [
    "print_jointed_lists_strings(string1, string2, \"\\t\\t\\t\\t\")"
   ]
  },
  {
   "cell_type": "code",
   "execution_count": 30,
   "metadata": {
    "ExecuteTime": {
     "end_time": "2019-06-18T03:52:35.790599Z",
     "start_time": "2019-06-18T03:52:35.767437Z"
    }
   },
   "outputs": [],
   "source": [
    "def print_jointed_lists_strings_align(str1, str2, separator = \" \"):\n",
    "    \n",
    "    def quantos_espacos_por_como_barra_t(str0, len_max):\n",
    "        qtd = len_max - len(str0)\n",
    "        spaces = \" \"\n",
    "        for i in range(qtd):\n",
    "            spaces = spaces + \" \"\n",
    "        return spaces\n",
    "        \n",
    "    l1 = str1.split(\"\\n\")\n",
    "    l2 = str2.split(\"\\n\")\n",
    "    if(len(l1) != len(l2)):\n",
    "        print(\"as listas nao tem os mesmso tamanhos\")\n",
    "        print(\"l1 tem\", len(l1), \"|\", \"l2 tem\", len(l2))\n",
    "        return \"\"\n",
    "    l3 = []\n",
    "    # percorre l1 para saber o elemento que tem maior len\n",
    "    q = -1\n",
    "    for i in l1:\n",
    "        q = max(q, len(i))\n",
    "    \n",
    "    for index in range(1, len(l1) - 1):\n",
    "        l3.append( l1[index] + quantos_espacos_por_como_barra_t(l1[index], q) + separator + l2[index] )\n",
    "    for v in l3:\n",
    "        print(v)"
   ]
  },
  {
   "cell_type": "code",
   "execution_count": 31,
   "metadata": {
    "ExecuteTime": {
     "end_time": "2019-06-18T03:52:36.161689Z",
     "start_time": "2019-06-18T03:52:36.152190Z"
    }
   },
   "outputs": [
    {
     "name": "stdout",
     "output_type": "stream",
     "text": [
      "13000   treze mil\n",
      "1300    mil e trezentos\n",
      "130     cento e trinta\n",
      "13      treze\n",
      "1       um\n",
      "13300   treze mil e trezentos\n",
      "100300  cem mil e trezentos\n",
      "103033  cento e tres mil e trinta e tres\n",
      "10000   dez mil\n",
      "1000    mil\n",
      "1       um\n",
      "2       dois\n",
      "3       tres\n",
      "4       quatro\n",
      "5       cinco\n",
      "6       seis\n",
      "7       sete\n",
      "8       oito\n",
      "9       nove\n",
      "10      dez\n",
      "11      onze\n",
      "12      doze\n",
      "13      treze\n",
      "14      quatorze\n",
      "15      quinze\n",
      "16      dezesseis\n",
      "17      dezessete\n",
      "18      dezoito\n",
      "19      dezenove\n",
      "50      cinquenta\n",
      "60      sessenta\n",
      "70      setenta\n",
      "80      oitenta\n",
      "90      noventa\n",
      "100     cem\n",
      "101     cento e um\n",
      "200     duzentos\n",
      "300     trezentos\n",
      "400     quatrocentos\n",
      "500     quinhentos\n",
      "600     seiscentos\n",
      "700     setecentos\n",
      "800     oitocentos\n",
      "900     novecentos\n",
      "1000    mil\n"
     ]
    }
   ],
   "source": [
    "print_jointed_lists_strings_align(string1, string2)"
   ]
  },
  {
   "cell_type": "code",
   "execution_count": 35,
   "metadata": {
    "ExecuteTime": {
     "end_time": "2019-06-18T03:57:25.582589Z",
     "start_time": "2019-06-18T03:57:25.576277Z"
    }
   },
   "outputs": [],
   "source": [
    "strr1 = \"\"\"\n",
    "0\n",
    "1\n",
    "9\n",
    "10\n",
    "14\n",
    "99\n",
    "100\n",
    "101\n",
    "357\n",
    "1000\n",
    "1001\n",
    "1034\n",
    "1589\n",
    "125967\n",
    "10000\n",
    "\"\"\"\n",
    "\n",
    "strr2 = \"\"\"\n",
    "zero\n",
    "um\n",
    "nove\n",
    "dez\n",
    "quatorze\n",
    "noventa e nove\n",
    "cem\n",
    "cento e um\n",
    "trezentos e cinquenta e sete\n",
    "mil\n",
    "mil e um\n",
    "mil e trinta e quatro\n",
    "mil quinhentos e oitenta e nove\n",
    "cento e vinte e cinco mil novecentos e sessenta e sete\n",
    "dez mil\n",
    "\"\"\""
   ]
  },
  {
   "cell_type": "code",
   "execution_count": 36,
   "metadata": {
    "ExecuteTime": {
     "end_time": "2019-06-18T03:57:25.947682Z",
     "start_time": "2019-06-18T03:57:25.933784Z"
    }
   },
   "outputs": [
    {
     "name": "stdout",
     "output_type": "stream",
     "text": [
      "0       zero\n",
      "1       um\n",
      "9       nove\n",
      "10      dez\n",
      "14      quatorze\n",
      "99      noventa e nove\n",
      "100     cem\n",
      "101     cento e um\n",
      "357     trezentos e cinquenta e sete\n",
      "1000    mil\n",
      "1001    mil e um\n",
      "1034    mil e trinta e quatro\n",
      "1589    mil quinhentos e oitenta e nove\n",
      "125967  cento e vinte e cinco mil novecentos e sessenta e sete\n",
      "10000   dez mil\n"
     ]
    }
   ],
   "source": [
    "print_jointed_lists_strings_align(strr1, strr2)"
   ]
  },
  {
   "cell_type": "code",
   "execution_count": null,
   "metadata": {},
   "outputs": [],
   "source": []
  }
 ],
 "metadata": {
  "kernelspec": {
   "display_name": "Python 3",
   "language": "python",
   "name": "python3"
  },
  "language_info": {
   "codemirror_mode": {
    "name": "ipython",
    "version": 3
   },
   "file_extension": ".py",
   "mimetype": "text/x-python",
   "name": "python",
   "nbconvert_exporter": "python",
   "pygments_lexer": "ipython3",
   "version": "3.7.1"
  }
 },
 "nbformat": 4,
 "nbformat_minor": 2
}
